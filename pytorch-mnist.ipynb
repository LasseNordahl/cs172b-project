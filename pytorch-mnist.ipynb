{
 "cells": [
  {
   "cell_type": "code",
   "execution_count": 11,
   "metadata": {
    "ExecuteTime": {
     "end_time": "2020-05-05T04:43:21.067355Z",
     "start_time": "2020-05-05T04:43:21.063356Z"
    }
   },
   "outputs": [],
   "source": [
    "import torch\n",
    "import torchvision\n",
    "import torchvision.transforms as transforms"
   ]
  },
  {
   "cell_type": "code",
   "execution_count": 12,
   "metadata": {
    "ExecuteTime": {
     "end_time": "2020-05-05T04:43:21.075352Z",
     "start_time": "2020-05-05T04:43:21.069354Z"
    }
   },
   "outputs": [
    {
     "name": "stdout",
     "output_type": "stream",
     "text": [
      "Running on the GPU\n"
     ]
    }
   ],
   "source": [
    "if torch.cuda.is_available():\n",
    "    device = torch.device(\"cuda:0\")  # you can continue going on here, like cuda:1 cuda:2....etc. \n",
    "    print(\"Running on the GPU\")\n",
    "else:\n",
    "    device = torch.device(\"cpu\")\n",
    "    print(\"Running on the CPU\")"
   ]
  },
  {
   "cell_type": "code",
   "execution_count": 13,
   "metadata": {
    "ExecuteTime": {
     "end_time": "2020-05-05T04:43:21.080359Z",
     "start_time": "2020-05-05T04:43:21.077352Z"
    }
   },
   "outputs": [],
   "source": [
    "num_epochs = 5;\n",
    "batch_size = 100;\n",
    "learning_rate = 0.001;"
   ]
  },
  {
   "cell_type": "code",
   "execution_count": 14,
   "metadata": {
    "ExecuteTime": {
     "end_time": "2020-05-05T04:43:22.684837Z",
     "start_time": "2020-05-05T04:43:21.082350Z"
    }
   },
   "outputs": [
    {
     "name": "stdout",
     "output_type": "stream",
     "text": [
      "Files already downloaded and verified\n",
      "Files already downloaded and verified\n"
     ]
    }
   ],
   "source": [
    "transform = transforms.Compose(\n",
    "    [transforms.ToTensor(),\n",
    "     transforms.Normalize((0.5, 0.5, 0.5), (0.5, 0.5, 0.5))])\n",
    "\n",
    "trainset = torchvision.datasets.CIFAR10(root='./data', train=True,\n",
    "                                        download=True, transform=transform)\n",
    "trainloader = torch.utils.data.DataLoader(trainset, batch_size=4,\n",
    "                                          shuffle=True, num_workers=2)\n",
    "\n",
    "testset = torchvision.datasets.CIFAR10(root='./data', train=False,\n",
    "                                       download=True, transform=transform)\n",
    "testloader = torch.utils.data.DataLoader(testset, batch_size=4,\n",
    "                                         shuffle=False, num_workers=2)\n",
    "\n",
    "classes = ('plane', 'car', 'bird', 'cat',\n",
    "           'deer', 'dog', 'frog', 'horse', 'ship', 'truck')"
   ]
  },
  {
   "cell_type": "code",
   "execution_count": 15,
   "metadata": {
    "ExecuteTime": {
     "end_time": "2020-05-05T04:43:27.049442Z",
     "start_time": "2020-05-05T04:43:22.685836Z"
    }
   },
   "outputs": [
    {
     "name": "stdout",
     "output_type": "stream",
     "text": [
      "torch.Size([4, 3, 32, 32])\n"
     ]
    },
    {
     "data": {
      "image/png": "[encoded data removed]",
      "text/plain": [
       "<Figure size 432x288 with 1 Axes>"
      ]
     },
     "metadata": {
      "needs_background": "light"
     },
     "output_type": "display_data"
    },
    {
     "name": "stdout",
     "output_type": "stream",
     "text": [
      "  cat  ship  bird truck\n"
     ]
    }
   ],
   "source": [
    "import matplotlib.pyplot as plt\n",
    "import numpy as np\n",
    "\n",
    "# functions to show an image\n",
    "\n",
    "\n",
    "def imshow(img):\n",
    "    img = img / 2 + 0.5     # unnormalize\n",
    "    npimg = img.numpy()\n",
    "    plt.imshow(np.transpose(npimg, (1, 2, 0)))\n",
    "    plt.show()\n",
    "\n",
    "\n",
    "# get some random training images\n",
    "dataiter = iter(trainloader)\n",
    "images, labels = dataiter.next()\n",
    "\n",
    "print(images.size())\n",
    "\n",
    "# show images\n",
    "imshow(torchvision.utils.make_grid(images))\n",
    "# print labels\n",
    "print(' '.join('%5s' % classes[labels[j]] for j in range(4)))"
   ]
  },
  {
   "cell_type": "code",
   "execution_count": 16,
   "metadata": {
    "ExecuteTime": {
     "end_time": "2020-05-05T04:43:27.072435Z",
     "start_time": "2020-05-05T04:43:27.050441Z"
    }
   },
   "outputs": [
    {
     "data": {
      "text/plain": [
       "Net(\n",
       "  (conv1): Conv2d(3, 6, kernel_size=(5, 5), stride=(1, 1))\n",
       "  (pool): MaxPool2d(kernel_size=2, stride=2, padding=0, dilation=1, ceil_mode=False)\n",
       "  (conv2): Conv2d(6, 16, kernel_size=(5, 5), stride=(1, 1))\n",
       "  (fc1): Linear(in_features=400, out_features=120, bias=True)\n",
       "  (fc2): Linear(in_features=120, out_features=84, bias=True)\n",
       "  (fc3): Linear(in_features=84, out_features=10, bias=True)\n",
       ")"
      ]
     },
     "execution_count": 16,
     "metadata": {},
     "output_type": "execute_result"
    },
    {
     "name": "stderr",
     "output_type": "stream",
     "text": [
      "Traceback (most recent call last):\n",
      "  File \"C:\\Users\\lasse\\.conda\\envs\\pytorch\\lib\\multiprocessing\\queues.py\", line 230, in _feed\n",
      "    close()\n",
      "  File \"C:\\Users\\lasse\\.conda\\envs\\pytorch\\lib\\multiprocessing\\connection.py\", line 177, in close\n",
      "    self._close()\n",
      "  File \"C:\\Users\\lasse\\.conda\\envs\\pytorch\\lib\\multiprocessing\\connection.py\", line 277, in _close\n",
      "    _CloseHandle(self._handle)\n",
      "OSError: [WinError 6] The handle is invalid\n"
     ]
    }
   ],
   "source": [
    "import torch.nn as nn\n",
    "import torch.nn.functional as F\n",
    "\n",
    "\n",
    "class Net(nn.Module):\n",
    "    def __init__(self):\n",
    "        super(Net, self).__init__()\n",
    "        self.conv1 = nn.Conv2d(3, 6, 5)\n",
    "        self.pool = nn.MaxPool2d(2, 2)\n",
    "        self.conv2 = nn.Conv2d(6, 16, 5)\n",
    "        self.fc1 = nn.Linear(16 * 5 * 5, 120)\n",
    "        self.fc2 = nn.Linear(120, 84)\n",
    "        self.fc3 = nn.Linear(84, 10)\n",
    "\n",
    "    def forward(self, x):\n",
    "        x = self.pool(F.relu(self.conv1(x)))\n",
    "        x = self.pool(F.relu(self.conv2(x)))\n",
    "        x = x.view(-1, 16 * 5 * 5)\n",
    "        x = F.relu(self.fc1(x))\n",
    "        x = F.relu(self.fc2(x))\n",
    "        x = self.fc3(x)\n",
    "        return x\n",
    "\n",
    "\n",
    "net = Net()\n",
    "net.to(device)"
   ]
  },
  {
   "cell_type": "code",
   "execution_count": 17,
   "metadata": {
    "ExecuteTime": {
     "end_time": "2020-05-05T04:43:27.079432Z",
     "start_time": "2020-05-05T04:43:27.075434Z"
    }
   },
   "outputs": [],
   "source": [
    "import torch.optim as optim\n",
    "\n",
    "criterion = nn.CrossEntropyLoss()\n",
    "optimizer = optim.SGD(net.parameters(), lr=0.001, momentum=0.9)"
   ]
  },
  {
   "cell_type": "code",
   "execution_count": 24,
   "metadata": {
    "ExecuteTime": {
     "end_time": "2020-05-05T22:56:54.949775Z",
     "start_time": "2020-05-05T22:56:46.403510Z"
    }
   },
   "outputs": [
    {
     "name": "stdout",
     "output_type": "stream",
     "text": [
      "tensor([[[[ 0.4118,  0.4431,  0.4196,  ...,  0.2235,  0.2157,  0.1922],\n",
      "          [ 0.3647,  0.3333,  0.3569,  ...,  0.1922,  0.2941,  0.3176],\n",
      "          [ 0.2706,  0.3020,  0.3647,  ...,  0.2392,  0.3333,  0.3098],\n",
      "          ...,\n",
      "          [-0.4667, -0.5608, -0.5765,  ..., -0.0431, -0.0275, -0.1294],\n",
      "          [-0.4980, -0.6078, -0.5922,  ..., -0.1294, -0.1294, -0.1608],\n",
      "          [-0.5373, -0.6314, -0.6157,  ..., -0.1608, -0.1137, -0.1294]],\n",
      "\n",
      "         [[ 0.3569,  0.3804,  0.3412,  ...,  0.1294,  0.1294,  0.0980],\n",
      "          [ 0.3020,  0.2706,  0.2627,  ...,  0.0667,  0.1686,  0.2000],\n",
      "          [ 0.2000,  0.2157,  0.2471,  ...,  0.0902,  0.1686,  0.1686],\n",
      "          ...,\n",
      "          [-0.5529, -0.6157, -0.6392,  ..., -0.1451, -0.1294, -0.2000],\n",
      "          [-0.5765, -0.6471, -0.6235,  ..., -0.2235, -0.2000, -0.2157],\n",
      "          [-0.6157, -0.6706, -0.6549,  ..., -0.2471, -0.2000, -0.2000]],\n",
      "\n",
      "         [[ 0.1529,  0.1686,  0.1373,  ..., -0.0588, -0.0824, -0.1373],\n",
      "          [ 0.0980,  0.0667,  0.0667,  ..., -0.0980, -0.0196, -0.0275],\n",
      "          [ 0.0039,  0.0118,  0.0510,  ..., -0.0588, -0.0196, -0.0353],\n",
      "          ...,\n",
      "          [-0.6235, -0.6863, -0.7020,  ..., -0.2784, -0.2627, -0.3255],\n",
      "          [-0.6471, -0.7098, -0.6784,  ..., -0.3490, -0.3176, -0.3333],\n",
      "          [-0.6627, -0.7255, -0.7098,  ..., -0.3725, -0.3098, -0.3098]]],\n",
      "\n",
      "\n",
      "        [[[ 0.8039,  0.3804,  0.5529,  ..., -0.1529, -0.1686, -0.1294],\n",
      "          [ 0.9451,  0.6549,  0.5451,  ..., -0.1529, -0.1608, -0.1137],\n",
      "          [ 0.8510,  0.7098,  0.2471,  ..., -0.1451, -0.1529, -0.0902],\n",
      "          ...,\n",
      "          [ 0.9216,  0.8902,  0.8980,  ...,  0.9765,  0.9765,  1.0000],\n",
      "          [ 0.9529,  0.9294,  0.9451,  ...,  0.9608,  0.9608,  0.9843],\n",
      "          [ 0.9922,  0.9765,  0.9843,  ...,  0.9843,  0.9765,  1.0000]],\n",
      "\n",
      "         [[ 0.8118,  0.4039,  0.5843,  ..., -0.3882, -0.4039, -0.3647],\n",
      "          [ 0.9686,  0.6863,  0.5608,  ..., -0.3804, -0.3882, -0.3490],\n",
      "          [ 0.8824,  0.7333,  0.2549,  ..., -0.3725, -0.3804, -0.3255],\n",
      "          ...,\n",
      "          [ 0.9373,  0.9294,  0.9294,  ...,  0.9843,  0.9843,  1.0000],\n",
      "          [ 0.9608,  0.9451,  0.9451,  ...,  0.9922,  0.9922,  1.0000],\n",
      "          [ 1.0000,  0.9922,  0.9922,  ...,  1.0000,  1.0000,  1.0000]],\n",
      "\n",
      "         [[ 0.8353,  0.4667,  0.6706,  ..., -0.6235, -0.6392, -0.5765],\n",
      "          [ 0.9843,  0.7255,  0.6235,  ..., -0.6471, -0.6549, -0.5686],\n",
      "          [ 0.8980,  0.7569,  0.2784,  ..., -0.6314, -0.6392, -0.5608],\n",
      "          ...,\n",
      "          [ 0.8902,  0.8824,  0.8824,  ...,  0.9686,  0.9686,  0.9922],\n",
      "          [ 0.9294,  0.9059,  0.9137,  ...,  0.9686,  0.9608,  0.9843],\n",
      "          [ 0.9843,  0.9608,  0.9608,  ...,  0.9843,  0.9765,  1.0000]]],\n",
      "\n",
      "\n",
      "        [[[ 0.9451,  0.9373,  0.9451,  ...,  0.8510,  0.8353,  0.7412],\n",
      "          [ 0.9608,  0.9608,  0.9686,  ...,  0.8588,  0.8275,  0.7176],\n",
      "          [ 0.9373,  0.9373,  0.9451,  ...,  0.7725,  0.7490,  0.6392],\n",
      "          ...,\n",
      "          [-0.4667, -0.4980, -0.5765,  ..., -0.3412, -0.3333, -0.3490],\n",
      "          [-0.3647, -0.3882, -0.4431,  ..., -0.3333, -0.3333, -0.3490],\n",
      "          [-0.3176, -0.3569, -0.3647,  ..., -0.3255, -0.3333, -0.3412]],\n",
      "\n",
      "         [[ 0.9451,  0.9373,  0.9451,  ...,  0.8667,  0.8588,  0.7725],\n",
      "          [ 0.9608,  0.9608,  0.9686,  ...,  0.8824,  0.8588,  0.7569],\n",
      "          [ 0.9373,  0.9373,  0.9451,  ...,  0.8039,  0.7961,  0.6863],\n",
      "          ...,\n",
      "          [-0.5216, -0.5529, -0.6314,  ..., -0.3961, -0.3882, -0.4039],\n",
      "          [-0.4196, -0.4431, -0.4980,  ..., -0.3882, -0.3961, -0.4039],\n",
      "          [-0.3725, -0.4118, -0.4196,  ..., -0.3804, -0.3882, -0.3961]],\n",
      "\n",
      "         [[ 0.9451,  0.9373,  0.9451,  ...,  0.9216,  0.9294,  0.8510],\n",
      "          [ 0.9608,  0.9608,  0.9686,  ...,  0.9216,  0.9137,  0.8196],\n",
      "          [ 0.9373,  0.9373,  0.9451,  ...,  0.8353,  0.8196,  0.7176],\n",
      "          ...,\n",
      "          [-0.4667, -0.4980, -0.5765,  ..., -0.3412, -0.3333, -0.3490],\n",
      "          [-0.3647, -0.3882, -0.4431,  ..., -0.3333, -0.3333, -0.3569],\n",
      "          [-0.3176, -0.3569, -0.3647,  ..., -0.3255, -0.3333, -0.3412]]],\n",
      "\n",
      "\n",
      "        [[[-0.2157, -0.2627, -0.3412,  ..., -0.2706, -0.3412, -0.6235],\n",
      "          [-0.4039, -0.4431, -0.5059,  ..., -0.2471, -0.4196, -0.7333],\n",
      "          [-0.4902, -0.4667, -0.5294,  ..., -0.0353, -0.1843, -0.4588],\n",
      "          ...,\n",
      "          [-0.0118,  0.2392,  0.2941,  ..., -0.2941, -0.2549, -0.2784],\n",
      "          [-0.3176,  0.1216,  0.3098,  ..., -0.2863, -0.3412, -0.4118],\n",
      "          [-0.4431, -0.1686,  0.2471,  ..., -0.5294, -0.6549, -0.6471]],\n",
      "\n",
      "         [[-0.3098, -0.3490, -0.4275,  ..., -0.3882, -0.4431, -0.6706],\n",
      "          [-0.4510, -0.4980, -0.5608,  ..., -0.3961, -0.5529, -0.7882],\n",
      "          [-0.4980, -0.4980, -0.5686,  ..., -0.3098, -0.4431, -0.6157],\n",
      "          ...,\n",
      "          [-0.0667,  0.1608,  0.1922,  ..., -0.2941, -0.2549, -0.2863],\n",
      "          [-0.3569,  0.0510,  0.2157,  ..., -0.2941, -0.3490, -0.4196],\n",
      "          [-0.4745, -0.2235,  0.1529,  ..., -0.5216, -0.6863, -0.7176]],\n",
      "\n",
      "         [[-0.4039, -0.4275, -0.4902,  ..., -0.5373, -0.5608, -0.7412],\n",
      "          [-0.5451, -0.5765, -0.6314,  ..., -0.5843, -0.7020, -0.8667],\n",
      "          [-0.5843, -0.5765, -0.6471,  ..., -0.5922, -0.6941, -0.7725],\n",
      "          ...,\n",
      "          [-0.1294,  0.0667,  0.0588,  ..., -0.3098, -0.2706, -0.3020],\n",
      "          [-0.4118, -0.0431,  0.0824,  ..., -0.3098, -0.3647, -0.4431],\n",
      "          [-0.5216, -0.2941,  0.0588,  ..., -0.5451, -0.7333, -0.8118]]]],\n",
      "       device='cuda:0') tensor([5, 5, 9, 3], device='cuda:0')\n",
      "tensor([[[[ 0.7176,  0.7020,  0.7020,  ...,  0.2941,  0.3098,  0.2941],\n",
      "          [ 0.6941,  0.6706,  0.6627,  ...,  0.2235,  0.2549,  0.2627],\n",
      "          [ 0.6706,  0.6392,  0.6314,  ...,  0.2000,  0.2627,  0.2157],\n",
      "          ...,\n",
      "          [ 0.0588,  0.0667, -0.4902,  ..., -0.8588, -0.8510, -0.8588],\n",
      "          [ 0.0353, -0.1216, -0.6627,  ..., -0.8588, -0.8510, -0.8510],\n",
      "          [-0.1059, -0.4902, -0.7333,  ..., -0.8745, -0.8745, -0.8588]],\n",
      "\n",
      "         [[ 0.7255,  0.7020,  0.7020,  ...,  0.2784,  0.2863,  0.2706],\n",
      "          [ 0.7020,  0.6706,  0.6627,  ...,  0.2000,  0.2314,  0.2392],\n",
      "          [ 0.6784,  0.6392,  0.6314,  ...,  0.1765,  0.2392,  0.2157],\n",
      "          ...,\n",
      "          [ 0.0588,  0.0745, -0.4745,  ..., -0.8588, -0.8510, -0.8588],\n",
      "          [ 0.0353, -0.1137, -0.6471,  ..., -0.8588, -0.8510, -0.8510],\n",
      "          [-0.1059, -0.4824, -0.7176,  ..., -0.8745, -0.8745, -0.8588]],\n",
      "\n",
      "         [[ 0.6627,  0.6471,  0.6392,  ...,  0.1451,  0.1529,  0.1373],\n",
      "          [ 0.6392,  0.6078,  0.6000,  ...,  0.0745,  0.0980,  0.1059],\n",
      "          [ 0.6078,  0.5686,  0.5529,  ...,  0.0431,  0.1137,  0.0980],\n",
      "          ...,\n",
      "          [ 0.0745,  0.0902, -0.4902,  ..., -0.8588, -0.8510, -0.8588],\n",
      "          [ 0.0431, -0.1216, -0.6706,  ..., -0.8588, -0.8510, -0.8510],\n",
      "          [-0.1059, -0.4980, -0.7412,  ..., -0.8745, -0.8745, -0.8588]]],\n",
      "\n",
      "\n",
      "        [[[-0.3961, -0.7020, -0.2078,  ...,  1.0000,  1.0000,  1.0000],\n",
      "          [-0.4118, -0.7020, -0.1608,  ...,  0.9922,  0.9843,  0.9922],\n",
      "          [-0.4588, -0.6706, -0.1216,  ...,  1.0000,  0.9922,  1.0000],\n",
      "          ...,\n",
      "          [-0.6000, -0.2549, -0.2784,  ...,  1.0000,  0.9922,  1.0000],\n",
      "          [-0.5686, -0.2392, -0.2784,  ...,  1.0000,  0.9922,  1.0000],\n",
      "          [-0.5451, -0.2471, -0.2863,  ...,  1.0000,  0.9922,  1.0000]],\n",
      "\n",
      "         [[-0.4510, -0.7098, -0.0667,  ...,  1.0000,  1.0000,  1.0000],\n",
      "          [-0.4667, -0.7020,  0.0118,  ...,  0.9922,  0.9843,  0.9922],\n",
      "          [-0.5059, -0.6706,  0.0510,  ...,  1.0000,  0.9922,  1.0000],\n",
      "          ...,\n",
      "          [-0.5216, -0.1922, -0.3333,  ...,  1.0000,  0.9922,  1.0000],\n",
      "          [-0.4980, -0.1843, -0.3412,  ...,  1.0000,  0.9922,  1.0000],\n",
      "          [-0.4667, -0.1922, -0.3490,  ...,  1.0000,  0.9922,  1.0000]],\n",
      "\n",
      "         [[-0.4745, -0.7020, -0.0510,  ...,  1.0000,  1.0000,  1.0000],\n",
      "          [-0.4824, -0.6863,  0.0196,  ...,  0.9922,  0.9843,  0.9922],\n",
      "          [-0.5216, -0.6549,  0.0667,  ...,  1.0000,  0.9922,  1.0000],\n",
      "          ...,\n",
      "          [-0.5059, -0.1922, -0.3647,  ...,  1.0000,  0.9922,  1.0000],\n",
      "          [-0.4824, -0.1843, -0.3647,  ...,  1.0000,  0.9922,  1.0000],\n",
      "          [-0.4510, -0.1922, -0.3804,  ...,  1.0000,  0.9922,  1.0000]]],\n",
      "\n",
      "\n",
      "        [[[-0.1608,  0.7647, -0.0745,  ..., -0.6549, -0.8745, -0.9059],\n",
      "          [-0.2784,  0.0353, -0.2863,  ..., -0.9137, -0.8745, -0.8275],\n",
      "          [-0.0980, -0.4353, -0.6392,  ..., -0.9137, -0.9216, -0.8980],\n",
      "          ...,\n",
      "          [ 0.0353,  0.0667,  0.0745,  ...,  0.0745,  0.0667,  0.0431],\n",
      "          [ 0.0275,  0.0510,  0.0667,  ...,  0.0510,  0.0196,  0.0039],\n",
      "          [ 0.0039,  0.0039,  0.0431,  ...,  0.0196, -0.0118, -0.0039]],\n",
      "\n",
      "         [[-0.1608,  0.7725, -0.0275,  ..., -0.5137, -0.7725, -0.7725],\n",
      "          [-0.2784,  0.0431, -0.2784,  ..., -0.7804, -0.7490, -0.6863],\n",
      "          [-0.0902, -0.4353, -0.6078,  ..., -0.8118, -0.7882, -0.8353],\n",
      "          ...,\n",
      "          [ 0.0196,  0.0510,  0.0588,  ...,  0.0824,  0.0745,  0.0588],\n",
      "          [ 0.0118,  0.0353,  0.0510,  ...,  0.0510,  0.0275,  0.0118],\n",
      "          [-0.0118, -0.0118,  0.0275,  ...,  0.0353, -0.0118, -0.0118]],\n",
      "\n",
      "         [[-0.1529,  0.7882, -0.0353,  ..., -0.6706, -0.8824, -0.8510],\n",
      "          [-0.2706,  0.0588, -0.2784,  ..., -0.8980, -0.8431, -0.7490],\n",
      "          [-0.0745, -0.4667, -0.7176,  ..., -0.8980, -0.8902, -0.8588],\n",
      "          ...,\n",
      "          [ 0.0431,  0.0745,  0.0980,  ...,  0.1216,  0.1137,  0.0980],\n",
      "          [ 0.0353,  0.0588,  0.0902,  ...,  0.1059,  0.0745,  0.0667],\n",
      "          [ 0.0118,  0.0196,  0.0667,  ...,  0.0902,  0.0510,  0.0510]]],\n",
      "\n",
      "\n",
      "        [[[ 0.8039,  0.7725,  0.7804,  ...,  0.7176,  0.7098,  0.7255],\n",
      "          [ 0.8118,  0.7882,  0.7961,  ...,  0.7020,  0.6941,  0.7098],\n",
      "          [ 0.8118,  0.7804,  0.8275,  ...,  0.7020,  0.6863,  0.7020],\n",
      "          ...,\n",
      "          [ 0.7255,  0.7020,  0.7020,  ...,  0.2784,  0.3333,  0.3961],\n",
      "          [ 0.7020,  0.6784,  0.6784,  ...,  0.3098,  0.3569,  0.3961],\n",
      "          [ 0.6863,  0.6627,  0.6627,  ...,  0.3412,  0.3725,  0.4039]],\n",
      "\n",
      "         [[ 0.9451,  0.9137,  0.9216,  ...,  0.8039,  0.7961,  0.8118],\n",
      "          [ 0.9373,  0.9137,  0.9216,  ...,  0.7882,  0.7804,  0.7961],\n",
      "          [ 0.9216,  0.8824,  0.9294,  ...,  0.7882,  0.7725,  0.7882],\n",
      "          ...,\n",
      "          [ 0.8353,  0.8118,  0.8196,  ...,  0.2941,  0.3333,  0.3961],\n",
      "          [ 0.8118,  0.7882,  0.7961,  ...,  0.3333,  0.3647,  0.4118],\n",
      "          [ 0.7961,  0.7725,  0.7725,  ...,  0.3725,  0.4039,  0.4353]],\n",
      "\n",
      "         [[ 0.8980,  0.8667,  0.8745,  ...,  0.7333,  0.7333,  0.7490],\n",
      "          [ 0.8980,  0.8745,  0.8824,  ...,  0.7255,  0.7176,  0.7333],\n",
      "          [ 0.8824,  0.8588,  0.8980,  ...,  0.7255,  0.7098,  0.7255],\n",
      "          ...,\n",
      "          [ 0.8353,  0.8118,  0.8118,  ...,  0.2784,  0.3333,  0.3961],\n",
      "          [ 0.8118,  0.7882,  0.7882,  ...,  0.3255,  0.3647,  0.4039],\n",
      "          [ 0.7961,  0.7725,  0.7725,  ...,  0.3647,  0.3961,  0.4275]]]],\n",
      "       device='cuda:0') tensor([8, 3, 1, 1], device='cuda:0')\n",
      "Finished Training\n"
     ]
    }
   ],
   "source": [
    "for epoch in range(2):  # loop over the dataset multiple times\n",
    "\n",
    "    running_loss = 0.0\n",
    "    for i, data in enumerate(trainloader, 0):\n",
    "        # get the inputs; data is a list of [inputs, labels]\n",
    "       \n",
    "        inputs, labels = data[0].to(device), data[1].to(device)\n",
    "        print(inputs, labels)\n",
    "        break\n",
    "#         # zero the parameter gradients\n",
    "#         optimizer.zero_grad()\n",
    "\n",
    "#         # forward + backward + optimize\n",
    "#         outputs = net(inputs)\n",
    "#         loss = criterion(outputs, labels)\n",
    "#         loss.backward()\n",
    "#         optimizer.step()\n",
    "\n",
    "#         # print statistics\n",
    "#         running_loss += loss.item()\n",
    "#         if i % 2000 == 1999:    # print every 2000 mini-batches\n",
    "#             print('[%d, %5d] loss: %.3f' %\n",
    "#                   (epoch + 1, i + 1, running_loss / 2000))\n",
    "#             running_loss = 0.0\n",
    "\n",
    "print('Finished Training')"
   ]
  },
  {
   "cell_type": "code",
   "execution_count": null,
   "metadata": {},
   "outputs": [],
   "source": []
  },
  {
   "cell_type": "code",
   "execution_count": null,
   "metadata": {},
   "outputs": [],
   "source": []
  }
 ],
 "metadata": {
  "kernelspec": {
   "display_name": "pytorch",
   "language": "python",
   "name": "pytorch"
  },
  "language_info": {
   "codemirror_mode": {
    "name": "ipython",
    "version": 3
   },
   "file_extension": ".py",
   "mimetype": "text/x-python",
   "name": "python",
   "nbconvert_exporter": "python",
   "pygments_lexer": "ipython3",
   "version": "3.6.10"
  },
  "toc": {
   "base_numbering": 1,
   "nav_menu": {},
   "number_sections": true,
   "sideBar": true,
   "skip_h1_title": false,
   "title_cell": "Table of Contents",
   "title_sidebar": "Contents",
   "toc_cell": false,
   "toc_position": {},
   "toc_section_display": true,
   "toc_window_display": false
  },
  "varInspector": {
   "cols": {
    "lenName": 16,
    "lenType": 16,
    "lenVar": 40
   },
   "kernels_config": {
    "python": {
     "delete_cmd_postfix": "",
     "delete_cmd_prefix": "del ",
     "library": "var_list.py",
     "varRefreshCmd": "print(var_dic_list())"
    },
    "r": {
     "delete_cmd_postfix": ") ",
     "delete_cmd_prefix": "rm(",
     "library": "var_list.r",
     "varRefreshCmd": "cat(var_dic_list()) "
    }
   },
   "types_to_exclude": [
    "module",
    "function",
    "builtin_function_or_method",
    "instance",
    "_Feature"
   ],
   "window_display": false
  }
 },
 "nbformat": 4,
 "nbformat_minor": 2
}
