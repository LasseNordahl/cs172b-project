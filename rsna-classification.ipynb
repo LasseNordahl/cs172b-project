{
 "cells": [
  {
   "cell_type": "code",
   "execution_count": 168,
   "metadata": {
    "ExecuteTime": {
     "end_time": "2020-05-16T00:12:19.689518Z",
     "start_time": "2020-05-16T00:12:19.683520Z"
    }
   },
   "outputs": [],
   "source": [
    "import torch\n",
    "import torch.nn as nn\n",
    "import torch.nn.functional as F\n",
    "import torchvision\n",
    "from torch import tensor\n",
    "from torchvision import transforms, utils\n",
    "from torch.autograd import Variable\n",
    "from torch.utils.data import Dataset, DataLoader\n",
    "from torch.utils.data.sampler import SubsetRandomSampler\n",
    "import cv2\n",
    "import pandas as pd\n",
    "import pydicom as dicom\n",
    "from matplotlib.pyplot import imshow\n",
    "import matplotlib.pyplot as plt\n",
    "import torch.optim as optim\n",
    "import numpy as np\n",
    "from PIL import Image\n",
    "from skimage import exposure\n",
    "\n",
    "from glob import glob\n",
    "import os"
   ]
  },
  {
   "cell_type": "code",
   "execution_count": 169,
   "metadata": {
    "ExecuteTime": {
     "end_time": "2020-05-16T00:12:19.695516Z",
     "start_time": "2020-05-16T00:12:19.691517Z"
    }
   },
   "outputs": [
    {
     "name": "stdout",
     "output_type": "stream",
     "text": [
      "Running on the GPU\n"
     ]
    }
   ],
   "source": [
    "if torch.cuda.is_available():\n",
    "    # you can continue going on here, like cuda:1 cuda:2....etc.\n",
    "    device = torch.device(\"cuda:0\")\n",
    "    print(\"Running on the GPU\")\n",
    "else:\n",
    "    device = torch.device(\"cpu\")\n",
    "    print(\"Running on the CPU\")"
   ]
  },
  {
   "cell_type": "code",
   "execution_count": 170,
   "metadata": {
    "ExecuteTime": {
     "end_time": "2020-05-16T00:12:19.701514Z",
     "start_time": "2020-05-16T00:12:19.696516Z"
    }
   },
   "outputs": [],
   "source": [
    "DATA_DIR = os.path.join(\".\", \"rsa-pneumonia-data\")\n",
    "\n",
    "TRAIN_IMAGES = os.path.join(DATA_DIR, \"stage_2_train_images\")\n",
    "TEST_IMAGES = os.path.join(DATA_DIR, \"stage_2_test_images\")\n",
    "PRED_MASK_DIR = os.path.join(DATA_DIR, \"stage_2_mask_images\")\n",
    "\n",
    "TRAIN_ANNOTATIONS_FILE = \"stage_2_train_labels.csv\"\n",
    "TRAIN_CLASS_FILE = \"stage_2_detailed_class_info.csv\""
   ]
  },
  {
   "cell_type": "code",
   "execution_count": 171,
   "metadata": {
    "ExecuteTime": {
     "end_time": "2020-05-16T00:12:19.711511Z",
     "start_time": "2020-05-16T00:12:19.702514Z"
    }
   },
   "outputs": [],
   "source": [
    "class OpacityDataset(Dataset):\n",
    "\n",
    "    def __init__(self, csv_file, root_dir, image_dir, subsample, transform=None):\n",
    "        self.classes_df = pd.read_csv(csv_file)\n",
    "        if subsample is not None:\n",
    "            self.classes_df = self.classes_df[:subsample]\n",
    "        self.root_dir = root_dir\n",
    "        self.image_dir = image_dir\n",
    "        self.transform = transform\n",
    "\n",
    "        # Convert our classes to integers!\n",
    "        self.class_dict = {\n",
    "            \"Normal\": 0,\n",
    "            \"No Lung Opacity / Not Normal\": 0,\n",
    "            \"Lung Opacity\": 1\n",
    "        }\n",
    "\n",
    "    def __len__(self):\n",
    "        return len(self.classes_df)\n",
    "\n",
    "    def __getitem__(self, index):\n",
    "        if torch.is_tensor(index):\n",
    "            index = index.tolist()\n",
    "\n",
    "        # Get the image, preprocess it for our model\n",
    "        image_path = os.path.join(\n",
    "            self.image_dir, self.classes_df.iloc[index, 0])\n",
    "        image = dicom.read_file(image_path + \".dcm\").pixel_array\n",
    "        image = image[::4, ::4]\n",
    "        image = image/image.max()\n",
    "        image = (255*image).clip(0, 255).astype(np.uint8)\n",
    "        image = exposure.equalize_hist(image)\n",
    "        image = Image.fromarray(image).convert(\"RGB\")\n",
    "        \n",
    "        opacity_class = self.classes_df.at[index, 'class']\n",
    "        \n",
    "\n",
    "        if self.transform:\n",
    "            image = self.transform(image)\n",
    "        \n",
    "        sample = {\"image\": image,\n",
    "                  \"opacity_class\": self.class_dict[opacity_class],\n",
    "                  \"class\": opacity_class}\n",
    "\n",
    "        return sample"
   ]
  },
  {
   "cell_type": "code",
   "execution_count": 172,
   "metadata": {
    "ExecuteTime": {
     "end_time": "2020-05-16T00:12:19.719508Z",
     "start_time": "2020-05-16T00:12:19.712510Z"
    }
   },
   "outputs": [],
   "source": [
    "class OpacityMaskDataset(Dataset):\n",
    "\n",
    "    def __init__(self, csv_file, root_dir, image_dir, subsample, transform=None):\n",
    "        self.classes_df = pd.read_csv(csv_file)\n",
    "        if subsample is not None:\n",
    "            self.classes_df = self.classes_df[:subsample]\n",
    "        self.root_dir = root_dir\n",
    "        self.image_dir = image_dir\n",
    "        self.transform = transform\n",
    "\n",
    "        # Convert our classes to integers!\n",
    "        self.class_dict = {\n",
    "            \"Normal\": 0,\n",
    "            \"No Lung Opacity / Not Normal\": 0,\n",
    "            \"Lung Opacity\": 1\n",
    "        }\n",
    "\n",
    "    def __len__(self):\n",
    "        return len(self.classes_df)\n",
    "\n",
    "    def __getitem__(self, index):\n",
    "        if torch.is_tensor(index):\n",
    "            index = index.tolist()\n",
    "\n",
    "        # Get the image, preprocess it for our model\n",
    "#         image_path = os.path.join(\n",
    "#             self.image_dir, self.classes_df.iloc[index, 0])\n",
    "#         image = dicom.read_file(image_path + \".dcm\").pixel_array\n",
    "#         image = image[::4, ::4]\n",
    "#         image = image/image.max()\n",
    "#         image = (255*image).clip(0, 255).astype(np.uint8)\n",
    "#         image = Image.fromarray(image).convert(\"RGB\")\n",
    "        image = Image.open(os.path.join(self.image_dir, self.classes_df.iloc[index, 0] + \".jpeg\"))\n",
    "        opacity_class = self.classes_df.at[index, 'class']\n",
    "\n",
    "        if self.transform:\n",
    "            image = self.transform(image)\n",
    "        \n",
    "        sample = {\"image\": image,\n",
    "                  \"opacity_class\": self.class_dict[opacity_class],\n",
    "                  \"class\": opacity_class}\n",
    "\n",
    "        return sample"
   ]
  },
  {
   "cell_type": "code",
   "execution_count": 173,
   "metadata": {
    "ExecuteTime": {
     "end_time": "2020-05-16T00:12:19.749498Z",
     "start_time": "2020-05-16T00:12:19.720508Z"
    }
   },
   "outputs": [],
   "source": [
    "validation_split = 0.2;\n",
    "\n",
    "opacity_dataset = OpacityDataset(\n",
    "    csv_file=os.path.join(DATA_DIR, TRAIN_CLASS_FILE),\n",
    "    root_dir=DATA_DIR,\n",
    "    image_dir=TRAIN_IMAGES,\n",
    "    subsample=8000,\n",
    "#     subsample=None,\n",
    "    transform=transforms.ToTensor()\n",
    ")\n",
    "\n",
    "dataset_size = len(opacity_dataset)\n",
    "indices = list(range(dataset_size))\n",
    "split = int(np.floor(validation_split * dataset_size))\n",
    "# np.random.seed(1)\n",
    "# np.random.shuffle(indices)\n",
    "train_indices, val_indices = indices[split:], indices[:split]\n",
    "\n",
    "# Create samplers for data loading\n",
    "train_sampler = SubsetRandomSampler(train_indices)\n",
    "valid_sampler = SubsetRandomSampler(val_indices)"
   ]
  },
  {
   "cell_type": "code",
   "execution_count": 174,
   "metadata": {
    "ExecuteTime": {
     "end_time": "2020-05-16T00:12:19.754497Z",
     "start_time": "2020-05-16T00:12:19.750499Z"
    },
    "hide_input": true,
    "scrolled": true
   },
   "outputs": [],
   "source": [
    "# Define our NN\n",
    "# class ConvNet(nn.Module):\n",
    "#     def __init__(self):\n",
    "#         super(ConvNet, self).__init__()\n",
    "#         self.conv1 = nn.Conv2d(1, 16, (3, 3))\n",
    "#         self.pool = nn.MaxPool2d((2, 2), 2)\n",
    "#         self.conv2 = nn.Conv2d(16, 32, (3, 3))\n",
    "#         self.conv3 = nn.Conv2d(32, 64, (3, 3))\n",
    "#         self.conv4 = nn.Conv2d(64, 128, (3, 3))\n",
    "#         self.linear1 = nn.Linear(25088, 4086)\n",
    "#         self.linear3 = nn.Linear(4086, 2)\n",
    "\n",
    "#     def forward(self, x):\n",
    "#         x = self.pool(F.relu(self.conv1(x)))\n",
    "#         x = self.pool(F.relu(self.conv2(x)))\n",
    "#         x = self.pool(F.relu(self.conv3(x)))\n",
    "#         x = self.pool(F.relu(self.conv4(x)))\n",
    "#         x = x.view(x.size()[0], -1)\n",
    "#         x = F.relu(self.linear1(x))\n",
    "#         x = self.linear3(x)\n",
    "#         return x\n",
    "    \n",
    "# class AlexNet(nn.Module):\n",
    "#     def __init__(self, num_classes=2):\n",
    "#         super(AlexNet, self).__init__()\n",
    "#         self.features = nn.Sequential(\n",
    "#             nn.Conv2d(1, 64, kernel_size=11, stride=4, padding=2),\n",
    "#             nn.ReLU(inplace=True),\n",
    "#             nn.MaxPool2d(kernel_size=3, stride=2),\n",
    "#             nn.Conv2d(64, 192, kernel_size=5, padding=2),\n",
    "#             nn.ReLU(inplace=True),\n",
    "#             nn.MaxPool2d(kernel_size=3, stride=2),\n",
    "#             nn.Conv2d(192, 384, kernel_size=3, padding=1),\n",
    "#             nn.ReLU(inplace=True),\n",
    "#             nn.Conv2d(384, 256, kernel_size=3, padding=1),\n",
    "#             nn.ReLU(inplace=True),\n",
    "#             nn.Conv2d(256, 256, kernel_size=3, padding=1),\n",
    "#             nn.ReLU(inplace=True),\n",
    "#             nn.MaxPool2d(kernel_size=3, stride=2),\n",
    "#         )\n",
    "#         self.classifier = nn.Sequential(\n",
    "#             nn.Dropout(),\n",
    "#             nn.Linear(256 * 7 * 7, 4096),\n",
    "#             nn.ReLU(inplace=True),\n",
    "#             nn.Dropout(),\n",
    "#             nn.Linear(4096, 4096),\n",
    "#             nn.ReLU(inplace=True),\n",
    "#             nn.Linear(4096, num_classes),\n",
    "#         )\n",
    "\n",
    "#     def forward(self, x):\n",
    "#         x = self.features(x)\n",
    "#         x = x.view(x.size(0), 256 * 7 * 7)\n",
    "#         x = self.classifier(x)\n",
    "#         return x\n",
    "\n",
    "# model = AlexNet()\n",
    "# model.to(device)"
   ]
  },
  {
   "cell_type": "code",
   "execution_count": 7,
   "metadata": {
    "ExecuteTime": {
     "end_time": "2020-05-05T23:49:13.018378Z",
     "start_time": "2020-05-05T23:49:13.015379Z"
    },
    "deletable": false,
    "editable": false,
    "hide_input": true,
    "run_control": {
     "frozen": true
    }
   },
   "outputs": [],
   "source": [
    "del model\n",
    "torch.cuda.ipc_collect()\n",
    "torch.cuda.empty_cache()"
   ]
  },
  {
   "cell_type": "code",
   "execution_count": 175,
   "metadata": {
    "ExecuteTime": {
     "end_time": "2020-05-16T00:12:19.760495Z",
     "start_time": "2020-05-16T00:12:19.756496Z"
    }
   },
   "outputs": [],
   "source": [
    "# Hyperparameters\n",
    "epochs = 10\n",
    "num_classes = 2\n",
    "batch_size = 8\n",
    "learning_rate = .001"
   ]
  },
  {
   "cell_type": "code",
   "execution_count": 176,
   "metadata": {
    "ExecuteTime": {
     "end_time": "2020-05-16T00:12:20.056406Z",
     "start_time": "2020-05-16T00:12:19.762495Z"
    },
    "scrolled": true
   },
   "outputs": [
    {
     "data": {
      "text/plain": [
       "ResNet(\n",
       "  (conv1): Conv2d(3, 64, kernel_size=(7, 7), stride=(2, 2), padding=(3, 3), bias=False)\n",
       "  (bn1): BatchNorm2d(64, eps=1e-05, momentum=0.1, affine=True, track_running_stats=True)\n",
       "  (relu): ReLU(inplace=True)\n",
       "  (maxpool): MaxPool2d(kernel_size=3, stride=2, padding=1, dilation=1, ceil_mode=False)\n",
       "  (layer1): Sequential(\n",
       "    (0): BasicBlock(\n",
       "      (conv1): Conv2d(64, 64, kernel_size=(3, 3), stride=(1, 1), padding=(1, 1), bias=False)\n",
       "      (bn1): BatchNorm2d(64, eps=1e-05, momentum=0.1, affine=True, track_running_stats=True)\n",
       "      (relu): ReLU(inplace=True)\n",
       "      (conv2): Conv2d(64, 64, kernel_size=(3, 3), stride=(1, 1), padding=(1, 1), bias=False)\n",
       "      (bn2): BatchNorm2d(64, eps=1e-05, momentum=0.1, affine=True, track_running_stats=True)\n",
       "    )\n",
       "    (1): BasicBlock(\n",
       "      (conv1): Conv2d(64, 64, kernel_size=(3, 3), stride=(1, 1), padding=(1, 1), bias=False)\n",
       "      (bn1): BatchNorm2d(64, eps=1e-05, momentum=0.1, affine=True, track_running_stats=True)\n",
       "      (relu): ReLU(inplace=True)\n",
       "      (conv2): Conv2d(64, 64, kernel_size=(3, 3), stride=(1, 1), padding=(1, 1), bias=False)\n",
       "      (bn2): BatchNorm2d(64, eps=1e-05, momentum=0.1, affine=True, track_running_stats=True)\n",
       "    )\n",
       "  )\n",
       "  (layer2): Sequential(\n",
       "    (0): BasicBlock(\n",
       "      (conv1): Conv2d(64, 128, kernel_size=(3, 3), stride=(2, 2), padding=(1, 1), bias=False)\n",
       "      (bn1): BatchNorm2d(128, eps=1e-05, momentum=0.1, affine=True, track_running_stats=True)\n",
       "      (relu): ReLU(inplace=True)\n",
       "      (conv2): Conv2d(128, 128, kernel_size=(3, 3), stride=(1, 1), padding=(1, 1), bias=False)\n",
       "      (bn2): BatchNorm2d(128, eps=1e-05, momentum=0.1, affine=True, track_running_stats=True)\n",
       "      (downsample): Sequential(\n",
       "        (0): Conv2d(64, 128, kernel_size=(1, 1), stride=(2, 2), bias=False)\n",
       "        (1): BatchNorm2d(128, eps=1e-05, momentum=0.1, affine=True, track_running_stats=True)\n",
       "      )\n",
       "    )\n",
       "    (1): BasicBlock(\n",
       "      (conv1): Conv2d(128, 128, kernel_size=(3, 3), stride=(1, 1), padding=(1, 1), bias=False)\n",
       "      (bn1): BatchNorm2d(128, eps=1e-05, momentum=0.1, affine=True, track_running_stats=True)\n",
       "      (relu): ReLU(inplace=True)\n",
       "      (conv2): Conv2d(128, 128, kernel_size=(3, 3), stride=(1, 1), padding=(1, 1), bias=False)\n",
       "      (bn2): BatchNorm2d(128, eps=1e-05, momentum=0.1, affine=True, track_running_stats=True)\n",
       "    )\n",
       "  )\n",
       "  (layer3): Sequential(\n",
       "    (0): BasicBlock(\n",
       "      (conv1): Conv2d(128, 256, kernel_size=(3, 3), stride=(2, 2), padding=(1, 1), bias=False)\n",
       "      (bn1): BatchNorm2d(256, eps=1e-05, momentum=0.1, affine=True, track_running_stats=True)\n",
       "      (relu): ReLU(inplace=True)\n",
       "      (conv2): Conv2d(256, 256, kernel_size=(3, 3), stride=(1, 1), padding=(1, 1), bias=False)\n",
       "      (bn2): BatchNorm2d(256, eps=1e-05, momentum=0.1, affine=True, track_running_stats=True)\n",
       "      (downsample): Sequential(\n",
       "        (0): Conv2d(128, 256, kernel_size=(1, 1), stride=(2, 2), bias=False)\n",
       "        (1): BatchNorm2d(256, eps=1e-05, momentum=0.1, affine=True, track_running_stats=True)\n",
       "      )\n",
       "    )\n",
       "    (1): BasicBlock(\n",
       "      (conv1): Conv2d(256, 256, kernel_size=(3, 3), stride=(1, 1), padding=(1, 1), bias=False)\n",
       "      (bn1): BatchNorm2d(256, eps=1e-05, momentum=0.1, affine=True, track_running_stats=True)\n",
       "      (relu): ReLU(inplace=True)\n",
       "      (conv2): Conv2d(256, 256, kernel_size=(3, 3), stride=(1, 1), padding=(1, 1), bias=False)\n",
       "      (bn2): BatchNorm2d(256, eps=1e-05, momentum=0.1, affine=True, track_running_stats=True)\n",
       "    )\n",
       "  )\n",
       "  (layer4): Sequential(\n",
       "    (0): BasicBlock(\n",
       "      (conv1): Conv2d(256, 512, kernel_size=(3, 3), stride=(2, 2), padding=(1, 1), bias=False)\n",
       "      (bn1): BatchNorm2d(512, eps=1e-05, momentum=0.1, affine=True, track_running_stats=True)\n",
       "      (relu): ReLU(inplace=True)\n",
       "      (conv2): Conv2d(512, 512, kernel_size=(3, 3), stride=(1, 1), padding=(1, 1), bias=False)\n",
       "      (bn2): BatchNorm2d(512, eps=1e-05, momentum=0.1, affine=True, track_running_stats=True)\n",
       "      (downsample): Sequential(\n",
       "        (0): Conv2d(256, 512, kernel_size=(1, 1), stride=(2, 2), bias=False)\n",
       "        (1): BatchNorm2d(512, eps=1e-05, momentum=0.1, affine=True, track_running_stats=True)\n",
       "      )\n",
       "    )\n",
       "    (1): BasicBlock(\n",
       "      (conv1): Conv2d(512, 512, kernel_size=(3, 3), stride=(1, 1), padding=(1, 1), bias=False)\n",
       "      (bn1): BatchNorm2d(512, eps=1e-05, momentum=0.1, affine=True, track_running_stats=True)\n",
       "      (relu): ReLU(inplace=True)\n",
       "      (conv2): Conv2d(512, 512, kernel_size=(3, 3), stride=(1, 1), padding=(1, 1), bias=False)\n",
       "      (bn2): BatchNorm2d(512, eps=1e-05, momentum=0.1, affine=True, track_running_stats=True)\n",
       "    )\n",
       "  )\n",
       "  (avgpool): AdaptiveAvgPool2d(output_size=(1, 1))\n",
       "  (fc): Linear(in_features=512, out_features=2, bias=True)\n",
       ")"
      ]
     },
     "execution_count": 176,
     "metadata": {},
     "output_type": "execute_result"
    }
   ],
   "source": [
    "model = torchvision.models.resnet18(pretrained=True)\n",
    "# for param in model.parameters():\n",
    "#     param.requires_grad = False\n",
    "feature_num = model.fc.in_features\n",
    "model.fc = nn.Linear(feature_num, num_classes)\n",
    "model.to(device)"
   ]
  },
  {
   "cell_type": "code",
   "execution_count": 177,
   "metadata": {
    "ExecuteTime": {
     "end_time": "2020-05-16T00:12:20.061399Z",
     "start_time": "2020-05-16T00:12:20.058399Z"
    }
   },
   "outputs": [],
   "source": [
    "# model = torchvision.models.vgg11(pretrained=False)\n",
    "# model.fc = nn.Linear(4096, num_classes)\n",
    "# model.to(device)"
   ]
  },
  {
   "cell_type": "code",
   "execution_count": 178,
   "metadata": {
    "ExecuteTime": {
     "end_time": "2020-05-16T00:12:20.066397Z",
     "start_time": "2020-05-16T00:12:20.063398Z"
    }
   },
   "outputs": [],
   "source": [
    "# model = torchvision.models.alexnet(pretrained=False)\n",
    "# model.fc = nn.Linear(4096, num_classes)\n",
    "# model.to(device)"
   ]
  },
  {
   "cell_type": "code",
   "execution_count": 179,
   "metadata": {
    "ExecuteTime": {
     "end_time": "2020-05-16T00:12:20.074394Z",
     "start_time": "2020-05-16T00:12:20.067397Z"
    }
   },
   "outputs": [],
   "source": [
    "train_loader = torch.utils.data.DataLoader(\n",
    "    opacity_dataset, \n",
    "    batch_size=batch_size, \n",
    "    sampler=train_sampler,\n",
    "    num_workers=0\n",
    ")\n",
    "validation_loader = torch.utils.data.DataLoader(\n",
    "    opacity_dataset, \n",
    "    batch_size=batch_size,\n",
    "    sampler=valid_sampler,\n",
    "    num_workers=0\n",
    ")\n",
    "\n",
    "criterion = nn.CrossEntropyLoss()\n",
    "optimizer = optim.SGD(model.parameters(), lr=learning_rate, momentum=0.9)"
   ]
  },
  {
   "cell_type": "code",
   "execution_count": 180,
   "metadata": {
    "ExecuteTime": {
     "end_time": "2020-05-16T00:12:20.080393Z",
     "start_time": "2020-05-16T00:12:20.075395Z"
    }
   },
   "outputs": [],
   "source": [
    "def get_num_from_tensor(tensorItem):\n",
    "    return tensorItem.cuda().cpu().numpy().item()\n",
    "\n",
    "def get_numpy_from_tensor(tensorItem):\n",
    "    return tensorItem.cuda().cpu().numpy()"
   ]
  },
  {
   "cell_type": "code",
   "execution_count": 181,
   "metadata": {
    "ExecuteTime": {
     "end_time": "2020-05-16T00:12:20.088390Z",
     "start_time": "2020-05-16T00:12:20.081392Z"
    }
   },
   "outputs": [],
   "source": [
    "def correct_pred_sum(y_pred, y_test):\n",
    "    y_pred_softmax = torch.log_softmax(y_pred, dim=1)\n",
    "    _, y_pred_tags = torch.max(y_pred_softmax, dim=1)\n",
    "\n",
    "    correct_pred = (y_pred_tags == y_test).float()\n",
    "    return correct_pred.sum()\n",
    "\n",
    "def multi_acc(y_pred, y_test):\n",
    "    y_pred_softmax = torch.log_softmax(y_pred, dim=1)\n",
    "    _, y_pred_tags = torch.max(y_pred_softmax, dim=1)\n",
    "\n",
    "    correct_pred = (y_pred_tags == y_test).float()\n",
    "    acc = correct_pred.sum() / len(correct_pred)\n",
    "    acc = acc * 100\n",
    "\n",
    "    return get_num_from_tensor(acc)"
   ]
  },
  {
   "cell_type": "code",
   "execution_count": 182,
   "metadata": {
    "ExecuteTime": {
     "end_time": "2020-05-16T00:50:12.615000Z",
     "start_time": "2020-05-16T00:12:20.090390Z"
    }
   },
   "outputs": [
    {
     "name": "stdout",
     "output_type": "stream",
     "text": [
      "[1,    50] loss: 0.742 training_accuracy: 37.50\n",
      "[1,   100] loss: 0.767 training_accuracy: 37.50\n",
      "[1,   150] loss: 0.681 training_accuracy: 50.00\n",
      "[1,   200] loss: 0.633 training_accuracy: 100.00\n",
      "[1,   250] loss: 0.679 training_accuracy: 37.50\n",
      "[1,   300] loss: 0.666 training_accuracy: 25.00\n",
      "[1,   350] loss: 0.692 training_accuracy: 50.00\n",
      "[1,   400] loss: 0.659 training_accuracy: 25.00\n",
      "[1,   450] loss: 0.666 training_accuracy: 50.00\n",
      "[1,   500] loss: 0.700 training_accuracy: 50.00\n",
      "[1,   550] loss: 0.694 training_accuracy: 50.00\n",
      "[1,   600] loss: 0.637 training_accuracy: 75.00\n",
      "[1,   650] loss: 0.725 training_accuracy: 25.00\n",
      "[1,   700] loss: 0.709 training_accuracy: 37.50\n",
      "[1,   750] loss: 0.693 training_accuracy: 50.00\n",
      "[1,   800] loss: 0.614 training_accuracy: 50.00\n",
      "Finished training epoch\n",
      "Epoch [1] Training Accuracy: 66.312 Validation Accuracy: 57.812 \n",
      "[2,    50] loss: 0.654 training_accuracy: 62.50\n",
      "[2,   100] loss: 0.696 training_accuracy: 62.50\n",
      "[2,   150] loss: 0.679 training_accuracy: 62.50\n",
      "[2,   200] loss: 0.635 training_accuracy: 37.50\n",
      "[2,   250] loss: 0.682 training_accuracy: 62.50\n",
      "[2,   300] loss: 0.731 training_accuracy: 75.00\n",
      "[2,   350] loss: 0.625 training_accuracy: 62.50\n",
      "[2,   400] loss: 0.646 training_accuracy: 75.00\n",
      "[2,   450] loss: 0.578 training_accuracy: 75.00\n",
      "[2,   500] loss: 0.675 training_accuracy: 87.50\n",
      "[2,   550] loss: 0.621 training_accuracy: 62.50\n",
      "[2,   600] loss: 0.656 training_accuracy: 50.00\n",
      "[2,   650] loss: 0.600 training_accuracy: 75.00\n",
      "[2,   700] loss: 0.590 training_accuracy: 100.00\n",
      "[2,   750] loss: 0.630 training_accuracy: 62.50\n",
      "[2,   800] loss: 0.670 training_accuracy: 87.50\n",
      "Finished training epoch\n",
      "Epoch [2] Training Accuracy: 69.125 Validation Accuracy: 61.250 \n",
      "[3,    50] loss: 0.611 training_accuracy: 75.00\n",
      "[3,   100] loss: 0.605 training_accuracy: 75.00\n",
      "[3,   150] loss: 0.652 training_accuracy: 37.50\n",
      "[3,   200] loss: 0.589 training_accuracy: 62.50\n",
      "[3,   250] loss: 0.600 training_accuracy: 50.00\n",
      "[3,   300] loss: 0.620 training_accuracy: 87.50\n",
      "[3,   350] loss: 0.634 training_accuracy: 75.00\n",
      "[3,   400] loss: 0.670 training_accuracy: 37.50\n",
      "[3,   450] loss: 0.627 training_accuracy: 75.00\n",
      "[3,   500] loss: 0.614 training_accuracy: 50.00\n",
      "[3,   550] loss: 0.593 training_accuracy: 87.50\n",
      "[3,   600] loss: 0.585 training_accuracy: 87.50\n",
      "[3,   650] loss: 0.623 training_accuracy: 87.50\n",
      "[3,   700] loss: 0.603 training_accuracy: 75.00\n",
      "[3,   750] loss: 0.608 training_accuracy: 87.50\n",
      "[3,   800] loss: 0.603 training_accuracy: 87.50\n",
      "Finished training epoch\n",
      "Epoch [3] Training Accuracy: 70.609 Validation Accuracy: 65.250 \n",
      "[4,    50] loss: 0.595 training_accuracy: 50.00\n",
      "[4,   100] loss: 0.570 training_accuracy: 62.50\n",
      "[4,   150] loss: 0.600 training_accuracy: 87.50\n",
      "[4,   200] loss: 0.575 training_accuracy: 62.50\n",
      "[4,   250] loss: 0.599 training_accuracy: 75.00\n",
      "[4,   300] loss: 0.652 training_accuracy: 50.00\n",
      "[4,   350] loss: 0.590 training_accuracy: 75.00\n",
      "[4,   400] loss: 0.570 training_accuracy: 50.00\n",
      "[4,   450] loss: 0.584 training_accuracy: 75.00\n",
      "[4,   500] loss: 0.710 training_accuracy: 50.00\n",
      "[4,   550] loss: 0.657 training_accuracy: 87.50\n",
      "[4,   600] loss: 0.637 training_accuracy: 62.50\n",
      "[4,   650] loss: 0.582 training_accuracy: 100.00\n",
      "[4,   700] loss: 0.602 training_accuracy: 50.00\n",
      "[4,   750] loss: 0.605 training_accuracy: 37.50\n",
      "[4,   800] loss: 0.600 training_accuracy: 100.00\n",
      "Finished training epoch\n",
      "Epoch [4] Training Accuracy: 70.797 Validation Accuracy: 59.500 \n",
      "[5,    50] loss: 0.578 training_accuracy: 87.50\n",
      "[5,   100] loss: 0.572 training_accuracy: 62.50\n",
      "[5,   150] loss: 0.580 training_accuracy: 75.00\n",
      "[5,   200] loss: 0.598 training_accuracy: 50.00\n",
      "[5,   250] loss: 0.634 training_accuracy: 62.50\n",
      "[5,   300] loss: 0.547 training_accuracy: 87.50\n",
      "[5,   350] loss: 0.618 training_accuracy: 62.50\n",
      "[5,   400] loss: 0.564 training_accuracy: 62.50\n",
      "[5,   450] loss: 0.598 training_accuracy: 37.50\n",
      "[5,   500] loss: 0.599 training_accuracy: 37.50\n",
      "[5,   550] loss: 0.620 training_accuracy: 62.50\n",
      "[5,   600] loss: 0.578 training_accuracy: 50.00\n",
      "[5,   650] loss: 0.638 training_accuracy: 50.00\n",
      "[5,   700] loss: 0.571 training_accuracy: 75.00\n",
      "[5,   750] loss: 0.602 training_accuracy: 50.00\n",
      "[5,   800] loss: 0.556 training_accuracy: 62.50\n",
      "Finished training epoch\n",
      "Epoch [5] Training Accuracy: 74.672 Validation Accuracy: 61.062 \n",
      "[6,    50] loss: 0.566 training_accuracy: 75.00\n",
      "[6,   100] loss: 0.585 training_accuracy: 100.00\n",
      "[6,   150] loss: 0.598 training_accuracy: 87.50\n",
      "[6,   200] loss: 0.527 training_accuracy: 100.00\n",
      "[6,   250] loss: 0.532 training_accuracy: 75.00\n",
      "[6,   300] loss: 0.553 training_accuracy: 75.00\n",
      "[6,   350] loss: 0.581 training_accuracy: 75.00\n",
      "[6,   400] loss: 0.529 training_accuracy: 50.00\n",
      "[6,   450] loss: 0.506 training_accuracy: 87.50\n",
      "[6,   500] loss: 0.582 training_accuracy: 100.00\n",
      "[6,   550] loss: 0.568 training_accuracy: 87.50\n",
      "[6,   600] loss: 0.617 training_accuracy: 87.50\n",
      "[6,   650] loss: 0.514 training_accuracy: 50.00\n",
      "[6,   700] loss: 0.553 training_accuracy: 75.00\n",
      "[6,   750] loss: 0.544 training_accuracy: 62.50\n",
      "[6,   800] loss: 0.551 training_accuracy: 75.00\n",
      "Finished training epoch\n",
      "Epoch [6] Training Accuracy: 71.594 Validation Accuracy: 62.562 \n",
      "[7,    50] loss: 0.532 training_accuracy: 87.50\n",
      "[7,   100] loss: 0.518 training_accuracy: 75.00\n",
      "[7,   150] loss: 0.452 training_accuracy: 100.00\n",
      "[7,   200] loss: 0.582 training_accuracy: 75.00\n",
      "[7,   250] loss: 0.500 training_accuracy: 62.50\n",
      "[7,   300] loss: 0.533 training_accuracy: 75.00\n",
      "[7,   350] loss: 0.570 training_accuracy: 62.50\n",
      "[7,   400] loss: 0.527 training_accuracy: 62.50\n",
      "[7,   450] loss: 0.574 training_accuracy: 62.50\n",
      "[7,   500] loss: 0.558 training_accuracy: 87.50\n",
      "[7,   550] loss: 0.547 training_accuracy: 87.50\n",
      "[7,   600] loss: 0.583 training_accuracy: 75.00\n",
      "[7,   650] loss: 0.542 training_accuracy: 75.00\n",
      "[7,   700] loss: 0.543 training_accuracy: 87.50\n",
      "[7,   750] loss: 0.552 training_accuracy: 62.50\n",
      "[7,   800] loss: 0.520 training_accuracy: 50.00\n",
      "Finished training epoch\n",
      "Epoch [7] Training Accuracy: 74.031 Validation Accuracy: 59.750 \n",
      "[8,    50] loss: 0.438 training_accuracy: 87.50\n",
      "[8,   100] loss: 0.472 training_accuracy: 50.00\n",
      "[8,   150] loss: 0.485 training_accuracy: 87.50\n",
      "[8,   200] loss: 0.529 training_accuracy: 87.50\n",
      "[8,   250] loss: 0.548 training_accuracy: 62.50\n",
      "[8,   300] loss: 0.519 training_accuracy: 75.00\n",
      "[8,   350] loss: 0.524 training_accuracy: 62.50\n",
      "[8,   400] loss: 0.459 training_accuracy: 62.50\n",
      "[8,   450] loss: 0.510 training_accuracy: 62.50\n",
      "[8,   500] loss: 0.615 training_accuracy: 87.50\n",
      "[8,   550] loss: 0.518 training_accuracy: 87.50\n",
      "[8,   600] loss: 0.496 training_accuracy: 75.00\n",
      "[8,   650] loss: 0.548 training_accuracy: 75.00\n",
      "[8,   700] loss: 0.542 training_accuracy: 62.50\n",
      "[8,   750] loss: 0.534 training_accuracy: 87.50\n",
      "[8,   800] loss: 0.498 training_accuracy: 75.00\n",
      "Finished training epoch\n",
      "Epoch [8] Training Accuracy: 78.531 Validation Accuracy: 59.750 \n",
      "[9,    50] loss: 0.469 training_accuracy: 37.50\n",
      "[9,   100] loss: 0.457 training_accuracy: 100.00\n",
      "[9,   150] loss: 0.482 training_accuracy: 87.50\n",
      "[9,   200] loss: 0.505 training_accuracy: 100.00\n",
      "[9,   250] loss: 0.457 training_accuracy: 75.00\n",
      "[9,   300] loss: 0.518 training_accuracy: 100.00\n",
      "[9,   350] loss: 0.458 training_accuracy: 50.00\n",
      "[9,   400] loss: 0.436 training_accuracy: 75.00\n",
      "[9,   450] loss: 0.447 training_accuracy: 75.00\n",
      "[9,   500] loss: 0.500 training_accuracy: 75.00\n",
      "[9,   550] loss: 0.491 training_accuracy: 87.50\n",
      "[9,   600] loss: 0.465 training_accuracy: 87.50\n",
      "[9,   650] loss: 0.527 training_accuracy: 50.00\n",
      "[9,   700] loss: 0.536 training_accuracy: 75.00\n",
      "[9,   750] loss: 0.471 training_accuracy: 87.50\n",
      "[9,   800] loss: 0.480 training_accuracy: 100.00\n",
      "Finished training epoch\n",
      "Epoch [9] Training Accuracy: 82.672 Validation Accuracy: 59.750 \n",
      "[10,    50] loss: 0.448 training_accuracy: 87.50\n",
      "[10,   100] loss: 0.466 training_accuracy: 87.50\n",
      "[10,   150] loss: 0.400 training_accuracy: 100.00\n",
      "[10,   200] loss: 0.502 training_accuracy: 62.50\n",
      "[10,   250] loss: 0.454 training_accuracy: 75.00\n",
      "[10,   300] loss: 0.451 training_accuracy: 62.50\n",
      "[10,   350] loss: 0.429 training_accuracy: 62.50\n",
      "[10,   400] loss: 0.466 training_accuracy: 75.00\n",
      "[10,   450] loss: 0.491 training_accuracy: 75.00\n",
      "[10,   500] loss: 0.454 training_accuracy: 87.50\n"
     ]
    },
    {
     "name": "stdout",
     "output_type": "stream",
     "text": [
      "[10,   550] loss: 0.477 training_accuracy: 75.00\n",
      "[10,   600] loss: 0.456 training_accuracy: 87.50\n",
      "[10,   650] loss: 0.420 training_accuracy: 87.50\n",
      "[10,   700] loss: 0.470 training_accuracy: 87.50\n",
      "[10,   750] loss: 0.451 training_accuracy: 87.50\n",
      "[10,   800] loss: 0.449 training_accuracy: 87.50\n",
      "Finished training epoch\n",
      "Epoch [10] Training Accuracy: 84.031 Validation Accuracy: 60.375 \n",
      "Finished Training\n"
     ]
    }
   ],
   "source": [
    "losses = []\n",
    "train_accuracies = []\n",
    "val_accuracies = []\n",
    "\n",
    "for epoch in range(epochs):  # loop over the dataset multiple times\n",
    "    running_loss = 0.0\n",
    "    running_train_acc = 0.0\n",
    "    running_val_acc = 0.0\n",
    "    running_loss_full = 0.0\n",
    "    \n",
    "    for i, data in enumerate(train_loader, 0):\n",
    "        # get the inputs; data is a list of [inputs, labels]\n",
    "        inputs, labels = data[\"image\"], data[\"opacity_class\"]\n",
    "        inputs, labels = Variable(inputs.cuda(), requires_grad=True), Variable(labels.cuda())\n",
    "        \n",
    "        # zero the parameter gradients\n",
    "        optimizer.zero_grad()\n",
    "        \n",
    "        # forward + backward + optimize\n",
    "        outputs = model(inputs)\n",
    "        loss = criterion(outputs, labels)\n",
    "        loss.backward()\n",
    "        optimizer.step()\n",
    "        \n",
    "        # print statistics\n",
    "        running_loss += loss.item()\n",
    "        if i % 50 == 49:    # print every 2000 mini-batches          \n",
    "            train_acc = multi_acc(outputs, labels)\n",
    "            print(\"[%d, %5d] loss: %.3f training_accuracy: %.2f\" % (epoch + 1, i + 1, running_loss / 50, train_acc))\n",
    "            running_loss = 0.0\n",
    "       \n",
    "    print(\"Finished training epoch\")\n",
    "        \n",
    "    for i, data in enumerate(train_loader, 0):\n",
    "        inputs, labels = data[\"image\"], data[\"opacity_class\"]\n",
    "        inputs, labels = Variable(inputs.cuda(), requires_grad=True), Variable(labels.cuda())\n",
    "        outputs = model(inputs)\n",
    "        loss = criterion(outputs, labels)\n",
    "        running_loss_full += loss.item()\n",
    "        running_train_acc += multi_acc(outputs, labels)\n",
    "        \n",
    "    for i, data in enumerate(validation_loader, 0):\n",
    "        inputs, labels = data[\"image\"], data[\"opacity_class\"]\n",
    "        inputs, labels = Variable(inputs.cuda(), requires_grad=True), Variable(labels.cuda())\n",
    "        outputs = model(inputs)\n",
    "        running_val_acc += multi_acc(outputs, labels)\n",
    "        \n",
    "    curr_train_loss = running_loss_full / len(train_loader)    \n",
    "    train_acc = running_train_acc / len(train_loader)\n",
    "    val_acc = running_val_acc / len(validation_loader)\n",
    "    \n",
    "    losses.append(curr_train_loss)\n",
    "    train_accuracies.append(train_acc)\n",
    "    val_accuracies.append(val_acc)\n",
    "        \n",
    "    print(\"Epoch [%d] Training Accuracy: %.3f Validation Accuracy: %.3f \" % (epoch + 1, train_acc, val_acc))            \n",
    "print('Finished Training')"
   ]
  },
  {
   "cell_type": "code",
   "execution_count": 183,
   "metadata": {
    "ExecuteTime": {
     "end_time": "2020-05-16T02:37:53.876036Z",
     "start_time": "2020-05-16T02:37:53.868039Z"
    }
   },
   "outputs": [],
   "source": [
    "df = pd.DataFrame(zip(losses, train_accuracies, val_accuracies), columns=[\"Loss\", \"Train Acc\", \"Val Acc\"])\n",
    "df.to_csv(\"resnet-high-contrast.csv\")"
   ]
  },
  {
   "cell_type": "code",
   "execution_count": 29,
   "metadata": {
    "ExecuteTime": {
     "end_time": "2020-05-15T07:36:48.352066Z",
     "start_time": "2020-05-15T07:36:48.343070Z"
    }
   },
   "outputs": [
    {
     "data": {
      "text/html": [
       "<div>\n",
       "<style scoped>\n",
       "    .dataframe tbody tr th:only-of-type {\n",
       "        vertical-align: middle;\n",
       "    }\n",
       "\n",
       "    .dataframe tbody tr th {\n",
       "        vertical-align: top;\n",
       "    }\n",
       "\n",
       "    .dataframe thead th {\n",
       "        text-align: right;\n",
       "    }\n",
       "</style>\n",
       "<table border=\"1\" class=\"dataframe\">\n",
       "  <thead>\n",
       "    <tr style=\"text-align: right;\">\n",
       "      <th></th>\n",
       "      <th>Train Acc</th>\n",
       "      <th>Val Acc</th>\n",
       "    </tr>\n",
       "  </thead>\n",
       "  <tbody>\n",
       "    <tr>\n",
       "      <th>0</th>\n",
       "      <td>84.828125</td>\n",
       "      <td>73.0625</td>\n",
       "    </tr>\n",
       "    <tr>\n",
       "      <th>1</th>\n",
       "      <td>78.390625</td>\n",
       "      <td>65.0000</td>\n",
       "    </tr>\n",
       "    <tr>\n",
       "      <th>2</th>\n",
       "      <td>79.859375</td>\n",
       "      <td>62.5625</td>\n",
       "    </tr>\n",
       "    <tr>\n",
       "      <th>3</th>\n",
       "      <td>88.953125</td>\n",
       "      <td>73.6875</td>\n",
       "    </tr>\n",
       "    <tr>\n",
       "      <th>4</th>\n",
       "      <td>90.937500</td>\n",
       "      <td>72.5000</td>\n",
       "    </tr>\n",
       "  </tbody>\n",
       "</table>\n",
       "</div>"
      ],
      "text/plain": [
       "   Train Acc  Val Acc\n",
       "0  84.828125  73.0625\n",
       "1  78.390625  65.0000\n",
       "2  79.859375  62.5625\n",
       "3  88.953125  73.6875\n",
       "4  90.937500  72.5000"
      ]
     },
     "execution_count": 29,
     "metadata": {},
     "output_type": "execute_result"
    }
   ],
   "source": [
    "df2 = pd.DataFrame(zip(train_accuracies, val_accuracies), columns=[\"Train Acc\", \"Val Acc\"])\n",
    "df2.head()"
   ]
  },
  {
   "cell_type": "code",
   "execution_count": 184,
   "metadata": {
    "ExecuteTime": {
     "end_time": "2020-05-16T02:38:03.216042Z",
     "start_time": "2020-05-16T02:38:03.164059Z"
    }
   },
   "outputs": [],
   "source": [
    "torch.save(model.state_dict(), 'resnet-context.pth')"
   ]
  },
  {
   "cell_type": "code",
   "execution_count": 185,
   "metadata": {
    "ExecuteTime": {
     "end_time": "2020-05-16T02:38:06.406020Z",
     "start_time": "2020-05-16T02:38:06.279060Z"
    },
    "scrolled": false
   },
   "outputs": [
    {
     "data": {
      "image/png": "[encoded data removed]",
      "text/plain": [
       "<Figure size 432x288 with 1 Axes>"
      ]
     },
     "metadata": {
      "needs_background": "light"
     },
     "output_type": "display_data"
    }
   ],
   "source": [
    "plt.plot(train_accuracies, label=\"Training Accuracy\")\n",
    "plt.plot(val_accuracies, label=\"Validation Accuracy\")\n",
    "# plt.plot(losses, label=\"Loss\")\n",
    "plt.ylabel(\"Accuracy\")\n",
    "plt.ylim(0,100)\n",
    "plt.legend()\n",
    "plt.show()"
   ]
  },
  {
   "cell_type": "code",
   "execution_count": 85,
   "metadata": {
    "ExecuteTime": {
     "end_time": "2020-05-15T21:17:38.469889Z",
     "start_time": "2020-05-15T21:17:38.327935Z"
    },
    "deletable": false,
    "editable": false,
    "run_control": {
     "frozen": true
    }
   },
   "outputs": [
    {
     "ename": "RuntimeError",
     "evalue": "Error(s) in loading state_dict for ResNet:\n\tsize mismatch for fc.weight: copying a param with shape torch.Size([3, 512]) from checkpoint, the shape in current model is torch.Size([2, 512]).\n\tsize mismatch for fc.bias: copying a param with shape torch.Size([3]) from checkpoint, the shape in current model is torch.Size([2]).",
     "output_type": "error",
     "traceback": [
      "\u001b[1;31m---------------------------------------------------------------------------\u001b[0m",
      "\u001b[1;31mRuntimeError\u001b[0m                              Traceback (most recent call last)",
      "\u001b[1;32m<ipython-input-85-70f7fba0c1be>\u001b[0m in \u001b[0;36m<module>\u001b[1;34m\u001b[0m\n\u001b[1;32m----> 1\u001b[1;33m \u001b[0mmodel\u001b[0m\u001b[1;33m.\u001b[0m\u001b[0mload_state_dict\u001b[0m\u001b[1;33m(\u001b[0m\u001b[0mtorch\u001b[0m\u001b[1;33m.\u001b[0m\u001b[0mload\u001b[0m\u001b[1;33m(\u001b[0m\u001b[1;34m'resnet18-10-32.pth'\u001b[0m\u001b[1;33m)\u001b[0m\u001b[1;33m)\u001b[0m\u001b[1;33m\u001b[0m\u001b[1;33m\u001b[0m\u001b[0m\n\u001b[0m\u001b[0;32m      2\u001b[0m \u001b[0mmodel\u001b[0m\u001b[1;33m\u001b[0m\u001b[1;33m\u001b[0m\u001b[0m\n",
      "\u001b[1;32m~\\.conda\\envs\\pytorch\\lib\\site-packages\\torch\\nn\\modules\\module.py\u001b[0m in \u001b[0;36mload_state_dict\u001b[1;34m(self, state_dict, strict)\u001b[0m\n\u001b[0;32m    845\u001b[0m         \u001b[1;32mif\u001b[0m \u001b[0mlen\u001b[0m\u001b[1;33m(\u001b[0m\u001b[0merror_msgs\u001b[0m\u001b[1;33m)\u001b[0m \u001b[1;33m>\u001b[0m \u001b[1;36m0\u001b[0m\u001b[1;33m:\u001b[0m\u001b[1;33m\u001b[0m\u001b[1;33m\u001b[0m\u001b[0m\n\u001b[0;32m    846\u001b[0m             raise RuntimeError('Error(s) in loading state_dict for {}:\\n\\t{}'.format(\n\u001b[1;32m--> 847\u001b[1;33m                                self.__class__.__name__, \"\\n\\t\".join(error_msgs)))\n\u001b[0m\u001b[0;32m    848\u001b[0m         \u001b[1;32mreturn\u001b[0m \u001b[0m_IncompatibleKeys\u001b[0m\u001b[1;33m(\u001b[0m\u001b[0mmissing_keys\u001b[0m\u001b[1;33m,\u001b[0m \u001b[0munexpected_keys\u001b[0m\u001b[1;33m)\u001b[0m\u001b[1;33m\u001b[0m\u001b[1;33m\u001b[0m\u001b[0m\n\u001b[0;32m    849\u001b[0m \u001b[1;33m\u001b[0m\u001b[0m\n",
      "\u001b[1;31mRuntimeError\u001b[0m: Error(s) in loading state_dict for ResNet:\n\tsize mismatch for fc.weight: copying a param with shape torch.Size([3, 512]) from checkpoint, the shape in current model is torch.Size([2, 512]).\n\tsize mismatch for fc.bias: copying a param with shape torch.Size([3]) from checkpoint, the shape in current model is torch.Size([2])."
     ]
    }
   ],
   "source": [
    "model.load_state_dict(torch.load('resnet18-10-32.pth'))\n",
    "model"
   ]
  },
  {
   "cell_type": "code",
   "execution_count": 186,
   "metadata": {
    "ExecuteTime": {
     "end_time": "2020-05-16T02:39:58.106218Z",
     "start_time": "2020-05-16T02:39:35.604430Z"
    }
   },
   "outputs": [
    {
     "name": "stdout",
     "output_type": "stream",
     "text": [
      "pred 0,label 0 770\n",
      "pred 0,label 1 493\n",
      "pred 1,label 0 137\n",
      "pred 1,label 1 200\n",
      "\n",
      "pred 0,label 0 {'Lung Opacity': 0, 'Normal': 387, 'No Lung Opacity / Not Normal': 383}\n",
      "pred 0,label 1 {'Lung Opacity': 493, 'Normal': 0, 'No Lung Opacity / Not Normal': 0}\n",
      "pred 1,label 0 {'Lung Opacity': 0, 'Normal': 42, 'No Lung Opacity / Not Normal': 95}\n",
      "pred 1,label 1 {'Lung Opacity': 200, 'Normal': 0, 'No Lung Opacity / Not Normal': 0}\n"
     ]
    }
   ],
   "source": [
    "results = {\n",
    "    \"pred 0,label 0\": 0,\n",
    "    \"pred 0,label 1\": 0,\n",
    "    \"pred 1,label 0\": 0,\n",
    "    \"pred 1,label 1\": 0\n",
    "}\n",
    "\n",
    "results_classes = {\n",
    "    \"pred 0,label 0\": {\n",
    "        \"Lung Opacity\": 0,\n",
    "        \"Normal\": 0,\n",
    "        \"No Lung Opacity / Not Normal\": 0\n",
    "    },\n",
    "    \"pred 0,label 1\": {\n",
    "        \"Lung Opacity\": 0,\n",
    "        \"Normal\": 0,\n",
    "        \"No Lung Opacity / Not Normal\": 0\n",
    "    },\n",
    "    \"pred 1,label 0\": {\n",
    "        \"Lung Opacity\": 0,\n",
    "        \"Normal\": 0,\n",
    "        \"No Lung Opacity / Not Normal\": 0\n",
    "    },\n",
    "    \"pred 1,label 1\": {\n",
    "        \"Lung Opacity\": 0,\n",
    "        \"Normal\": 0,\n",
    "        \"No Lung Opacity / Not Normal\": 0\n",
    "    }\n",
    "}\n",
    "\n",
    "for i, data in enumerate(validation_loader, 0):\n",
    "    inputs, labels, classes = data[\"image\"], data[\"opacity_class\"], data[\"class\"]\n",
    "    inputs, labels = Variable(inputs.cuda(), requires_grad=True), Variable(labels.cuda())\n",
    "    outputs = model(inputs)\n",
    "    \n",
    "    y_pred_softmax = torch.log_softmax(outputs, dim=1)\n",
    "    _, y_pred_tags = torch.max(y_pred_softmax, dim=1)\n",
    "\n",
    "    correct_pred = (y_pred_tags == labels).float()\n",
    "    \n",
    "    for j in range(8):\n",
    "        pattern = \"pred %d,label %d\" % (get_num_from_tensor(y_pred_tags[j]), get_num_from_tensor(labels[j]))\n",
    "        results[pattern] += 1\n",
    "        results_classes[pattern][classes[j]] += 1\n",
    "\n",
    "for key, value in results.items():\n",
    "    print(key, value)\n",
    "    \n",
    "print()\n",
    "    \n",
    "for key, value in results_classes.items():\n",
    "    print(key, value)"
   ]
  },
  {
   "cell_type": "markdown",
   "metadata": {},
   "source": [
    "## Notes\n",
    "### 10 Epochs, 32 Batch, Resnet18\n",
    "* Validation values didn't increase that much past the first epoch\n",
    "* Need to check class imbalance \n",
    "* Need to check the amount of values of each class that I'm missing\n",
    "* Try other models with dropout \n",
    "* Clear indiciation of overfitting"
   ]
  }
 ],
 "metadata": {
  "kernelspec": {
   "display_name": "pytorch",
   "language": "python",
   "name": "pytorch"
  },
  "language_info": {
   "codemirror_mode": {
    "name": "ipython",
    "version": 3
   },
   "file_extension": ".py",
   "mimetype": "text/x-python",
   "name": "python",
   "nbconvert_exporter": "python",
   "pygments_lexer": "ipython3",
   "version": "3.6.10"
  },
  "toc": {
   "base_numbering": 1,
   "nav_menu": {},
   "number_sections": true,
   "sideBar": true,
   "skip_h1_title": false,
   "title_cell": "Table of Contents",
   "title_sidebar": "Contents",
   "toc_cell": false,
   "toc_position": {},
   "toc_section_display": true,
   "toc_window_display": false
  },
  "varInspector": {
   "cols": {
    "lenName": 16,
    "lenType": 16,
    "lenVar": 40
   },
   "kernels_config": {
    "python": {
     "delete_cmd_postfix": "",
     "delete_cmd_prefix": "del ",
     "library": "var_list.py",
     "varRefreshCmd": "print(var_dic_list())"
    },
    "r": {
     "delete_cmd_postfix": ") ",
     "delete_cmd_prefix": "rm(",
     "library": "var_list.r",
     "varRefreshCmd": "cat(var_dic_list()) "
    }
   },
   "types_to_exclude": [
    "module",
    "function",
    "builtin_function_or_method",
    "instance",
    "_Feature"
   ],
   "window_display": false
  }
 },
 "nbformat": 4,
 "nbformat_minor": 4
}
